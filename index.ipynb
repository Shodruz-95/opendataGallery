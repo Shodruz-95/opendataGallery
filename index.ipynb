{
 "cells": [
  {
   "cell_type": "markdown",
   "metadata": {},
   "source": [
    "# A gallery of analyses based on [CERN Opendata](http://opendata.cern.ch)\n",
    "<hr style=\"border-top-width: 4px; border-top-color: #34609b;\">\n",
    "\n",
    "<p style=\"margin-right:5%; margin-left:5%; font-size:22px; font-weight: 200; line-height: 1.2em\">\n",
    "This is a gallery of demo analyses performed on public data of [CERN LHC](www.cern.ch)\n",
    "experiments with the goal of illustrating the ROOTbook technology. For more information about the ROOT framework,\n",
    "visit http://root.cern.ch or [try it on Binder](http://root.cern.ch/notebooks/rootbinder)."
   ]
  },
  {
   "cell_type": "markdown",
   "metadata": {},
   "source": [
    "<table style=\"border-style: hidden; border-collapse: collapse;\">\n",
    "\n",
    "<!-- FIRST ROW -->\n",
    "\n",
    "<tr>\n",
    "  <td style=\"border-style: hidden;\">\n",
    "  <a data-content=\"Image\" class=\"test\"><img class='thumbnail'style='float: left; height: 200px; margin-right: 15px; margin-top: 15px; -web-kit-shadow: None !important; box-shadow: None !important; margin-bottom: 0px;' src=\"images/ALICE_Logo.jpg\"></a>\n",
    "  </td>\n",
    "  <td style=\"border-style: hidden;\">\n",
    "  <a data-content=\"Image\" class=\"test\"><img class='thumbnail'style='float: left; height: 200px; margin-right: 15px; margin-top: 15px; -web-kit-shadow: None !important; box-shadow: None !important; margin-bottom: 0px;' src=\"images/ATLAS_Logo.jpg\"></a>\n",
    "  </td>  \n",
    "</tr>\n",
    "\n",
    "<!--\n",
    "<tr>\n",
    "  <td style=\"border-style: hidden;\">\n",
    "  <p style=\"font-size:22px; font-weight: 200; line-height: 1.2em\">3D Geometries Visualization</p>\n",
    "  </td> \n",
    "  <td style=\"border-style: hidden;\">\n",
    "  <p style=\"font-size:22px; font-weight: 200; line-height: 1.2em\">Modelling and Fitting: Higgs</p>\n",
    "  </td>\n",
    "</tr>\n",
    "-->\n",
    "\n",
    "<!-- END OF FIRST ROW -->\n",
    "<!-- Second ROW -->\n",
    "\n",
    "<table style=\"border-style: hidden; border-collapse: collapse;\">\n",
    "<tr>\n",
    "  <td style=\"border-style: hidden;\">\n",
    "  <a data-content=\"Image\" href=\"notebooks/cms\" class=\"test\"><img class='thumbnail'style='float: left; height: 200px; margin-right: 15px; margin-top: 15px; -web-kit-shadow: None !important; box-shadow: None !important; margin-bottom: 0px;' src=\"images/CMS_Logo.jpg\"></a>\n",
    "  </td>\n",
    "  <td style=\"border-style: hidden;\">\n",
    "  <a data-content=\"Image\" class=\"test\"><img class='thumbnail'style='float: left; height: 200px; margin-right: 15px; margin-top: 15px; -web-kit-shadow: None !important; box-shadow: None !important; margin-bottom: 0px;' src=\"images/LHCb_Logo.jpg\"></a>\n",
    "  </td>\n",
    "</tr>\n",
    "\n",
    "<!--\n",
    "<tr>\n",
    "  <td style=\"border-style: hidden;\">\n",
    "  <p style=\"font-size:22px; font-weight: 200; line-height: 1.2em\">Extending Python with C++</p>\n",
    "  </td>\n",
    "  <td style=\"border-style: hidden;\">\n",
    "  <p style=\"font-size:22px; font-weight: 200; line-height: 1.2em\">Interactive 3rd Party Libs</p>\n",
    "  </td>\n",
    "</tr>\n",
    "-->\n",
    "<!-- END OF SECOND ROW -->\n",
    "</table>"
   ]
  },
  {
   "cell_type": "markdown",
   "metadata": {},
   "source": [
    "View these notebooks on [GitHub](https://github.com/dpiparo/opendataGallery)\n",
    "\n",
    "Danilo Piparo 2016, Copyright CERN"
   ]
  }
 ],
 "metadata": {
  "kernelspec": {
   "display_name": "Python 2",
   "language": "python",
   "name": "python2"
  },
  "language_info": {
   "codemirror_mode": {
    "name": "ipython",
    "version": 2
   },
   "file_extension": ".py",
   "mimetype": "text/x-python",
   "name": "python",
   "nbconvert_exporter": "python",
   "pygments_lexer": "ipython2",
   "version": "2.7.6"
  }
 },
 "nbformat": 4,
 "nbformat_minor": 0
}
