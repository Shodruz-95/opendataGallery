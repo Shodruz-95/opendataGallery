{
 "cells": [
  {
   "cell_type": "markdown",
   "metadata": {},
   "source": [
    "# Atlas Notebook Gallery\n",
    "<hr style=\"border-top-width: 4px; border-top-color: #34609b;\">\n",
    "<table border=\"None\" width=\"100%\" ID=\"Table2\" style=\"margin: 0px;\">\n",
    "  <col width=\"50%\">   \n",
    "  <col width=\"50%\">   \n",
    "  \n",
    "<tr>\n",
    "<td style=\"border-style: hidden;\"><img src=\"../../images/NULL_nb000.png\" width=\"100%\" /></td>\n",
    "  <td style=\"border-style: hidden;\"><img src=\"../../images/NULL_nb000.png\" width=\"100%\" /></td>\n",
    "</tr>\n",
    "<tr>\n",
    "  <td style=\"border-style: hidden;\"><img src=\"../../images/NULL_nb000.png\" width=\"100%\" /></td>\n",
    "  <td style=\"border-style: hidden;\"><img src=\"../../images/NULL_nb000.png\" width=\"100%\" /></td>\n",
    "</tr>\n",
    "<tr>\n",
    "  <td style=\"border-style: hidden;\"><img src=\"../../images/NULL_nb000.png\" width=\"100%\" /></td>\n",
    "  <td style=\"border-style: hidden;\"><img src=\"../../images/NULL_nb000.png\" width=\"100%\" /></td>\n",
    "</tr>\n",
    "</table>"
   ]
  }
 ],
 "metadata": {
  "kernelspec": {
   "display_name": "Python 2",
   "language": "python",
   "name": "python2"
  },
  "language_info": {
   "codemirror_mode": {
    "name": "ipython",
    "version": 2
   },
   "file_extension": ".py",
   "mimetype": "text/x-python",
   "name": "python",
   "nbconvert_exporter": "python",
   "pygments_lexer": "ipython2",
   "version": "2.7.6"
  }
 },
 "nbformat": 4,
 "nbformat_minor": 0
}
